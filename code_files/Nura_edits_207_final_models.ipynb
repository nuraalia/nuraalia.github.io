{
  "cells": [
    {
      "cell_type": "code",
      "execution_count": null,
      "metadata": {
        "id": "bt0M3ccQXM0D",
        "scrolled": true
      },
      "outputs": [],
      "source": [
        "#!pip3 install --upgrade pip\n",
        "#!pip3 install tensorflow\n",
        "#!pip3 install pandas\n",
        "#!pip3 install numpy\n",
        "#!pip3 install gc\n",
        "#!pip3 install matplotlib\n",
        "#!pip3 install random\n",
        "#!pip install scikit-learn\n",
        "import os\n",
        "os.environ['TF_CPP_MIN_LOG_LEVEL'] = '3'\n",
        "\n",
        "import warnings\n",
        "warnings.filterwarnings('ignore')\n",
        "\n",
        "import tensorflow as tf\n",
        "from tensorflow.keras import layers\n",
        "import matplotlib.pyplot as plt\n",
        "import numpy as np\n",
        "import pandas as pd\n",
        "from tensorflow.keras.models import Sequential\n",
        "from tensorflow.keras.layers import Dense, LSTM\n",
        "from tensorflow.keras.callbacks import EarlyStopping\n",
        "import gc\n",
        "from sklearn.metrics import accuracy_score, f1_score as f1, classification_report\n",
        "from tensorflow.keras.utils import to_categorical\n",
        "import random"
      ]
    },
    {
      "cell_type": "markdown",
      "metadata": {
        "id": "17XIv5r6Xg6j"
      },
      "source": [
        "# Load Data"
      ]
    },
    {
      "cell_type": "code",
      "execution_count": null,
      "metadata": {
        "id": "i62MC9vgkOaa"
      },
      "outputs": [],
      "source": [
        "X_train = pd.read_csv('X_train.csv')\n",
        "X_val = pd.read_csv('X_val.csv')\n",
        "X_test = pd.read_csv('X_test.csv')\n",
        "y_train = pd.read_csv('y_train.csv')\n",
        "y_val = pd.read_csv('y_val.csv')\n",
        "y_test = pd.read_csv('y_test.csv')\n"
      ]
    },
    {
      "cell_type": "markdown",
      "metadata": {
        "id": "lBHxi5abWwZR"
      },
      "source": [
        "# Binary Models: Mental Health related vs. Normal"
      ]
    },
    {
      "cell_type": "markdown",
      "metadata": {
        "id": "9_ECJIDHcNl9"
      },
      "source": [
        "Baseline Model: majority class predictor"
      ]
    },
    {
      "cell_type": "code",
      "execution_count": null,
      "metadata": {
        "colab": {
          "base_uri": "https://localhost:8080/"
        },
        "id": "ybheUUTscT4H",
        "outputId": "1a09e64b-b175-4ea5-8052-dac18cefe3e8"
      },
      "outputs": [
        {
          "name": "stdout",
          "output_type": "stream",
          "text": [
            "Binary labels distribution:\n",
            "Training set - Normal: 9616, Abnormal: 21908\n",
            "Validation set - Normal: 3308, Abnormal: 7200\n",
            "Test set - Normal: 3281, Abnormal: 7228\n"
          ]
        }
      ],
      "source": [
        "#Convert labels to either 0 (normal) or 1 (abnormal) for binary model\n",
        "# Map the labels into two categories: 'normal' and 'abnormal'\n",
        "y_train_binary = np.where(y_train == 3, 0, 1)  # 0 for 'Normal', 1 for 'Abnormal'\n",
        "y_val_binary = np.where(y_val == 3, 0, 1)\n",
        "y_test_binary = np.where(y_test == 3, 0, 1)\n",
        "\n",
        "# Verify the transformation\n",
        "print(\"Binary labels distribution:\")\n",
        "print(f\"Training set - Normal: {np.sum(y_train_binary == 0)}, Abnormal: {np.sum(y_train_binary == 1)}\")\n",
        "print(f\"Validation set - Normal: {np.sum(y_val_binary == 0)}, Abnormal: {np.sum(y_val_binary == 1)}\")\n",
        "print(f\"Test set - Normal: {np.sum(y_test_binary == 0)}, Abnormal: {np.sum(y_test_binary == 1)}\")"
      ]
    },
    {
      "cell_type": "code",
      "execution_count": null,
      "metadata": {
        "colab": {
          "base_uri": "https://localhost:8080/"
        },
        "id": "IaBcp_FycmMB",
        "outputId": "f4b53302-520f-4cf1-b339-54f7fdef53bd"
      },
      "outputs": [
        {
          "name": "stdout",
          "output_type": "stream",
          "text": [
            "Majority Class Accuracy: 0.6877914168807688\n"
          ]
        }
      ],
      "source": [
        "#predicting majority class, abnormal\n",
        "y_pred_majority = np.ones_like(y_test_binary)\n",
        "majority_accuracy = accuracy_score(y_test_binary, y_pred_majority)\n",
        "print(f\"Majority Class Accuracy: {majority_accuracy}\")"
      ]
    },
    {
      "cell_type": "markdown",
      "metadata": {
        "id": "Grpy8IZeY0Ii"
      },
      "source": [
        "The Majority Class Classifier has an accuracy of about 69% on the test data."
      ]
    },
    {
      "cell_type": "markdown",
      "metadata": {
        "id": "RTEuv0uBdcbh"
      },
      "source": [
        "Binary Model"
      ]
    },
    {
      "cell_type": "code",
      "execution_count": null,
      "metadata": {
        "id": "LqG6SOPj7X3e",
        "outputId": "6e5d9cec-3abf-4773-887c-c46b2605b6fa"
      },
      "outputs": [
        {
          "name": "stdout",
          "output_type": "stream",
          "text": [
            "Training set shape: (31524, 48543)\n",
            "Validation set shape: (10508, 48543)\n",
            "Test set shape: (10509, 48543)\n"
          ]
        }
      ],
      "source": [
        "from sklearn.feature_extraction.text import CountVectorizer\n",
        "\n",
        "# Initialize CountVectorizer\n",
        "vectorizer = CountVectorizer()\n",
        "\n",
        "# Fit the vectorizer on the training data and transform it into a bag-of-words representation\n",
        "X_train_bow = vectorizer.fit_transform(X_train['0'])\n",
        "\n",
        "# Transform validation and test sets using the same vectorizer\n",
        "X_val_bow = vectorizer.transform(X_val['0'])\n",
        "X_test_bow = vectorizer.transform(X_test['0'])\n",
        "\n",
        "# Verify shapes\n",
        "print(\"Training set shape:\", X_train_bow.shape)\n",
        "print(\"Validation set shape:\", X_val_bow.shape)\n",
        "print(\"Test set shape:\", X_test_bow.shape)"
      ]
    },
    {
      "cell_type": "code",
      "execution_count": null,
      "metadata": {
        "id": "vrMpPA4T7X3e"
      },
      "outputs": [],
      "source": [
        "X_train_bow = X_train_bow.astype(np.float32)\n",
        "X_val_bow = X_val_bow.astype(np.float32)\n",
        "X_test_bow = X_test_bow.astype(np.float32)"
      ]
    },
    {
      "cell_type": "code",
      "execution_count": null,
      "metadata": {
        "id": "YKO_eX0S7X3e",
        "outputId": "4e18d131-8b87-45b7-a307-f116b2073c2c"
      },
      "outputs": [
        {
          "name": "stdout",
          "output_type": "stream",
          "text": [
            "(31524, 1)\n",
            "(10508, 1)\n",
            "(10509, 1)\n"
          ]
        }
      ],
      "source": [
        "#Reshape arrays to work better with tf\n",
        "y_train_binary = y_train_binary.reshape(-1, 1)\n",
        "y_val_binary = y_val_binary.reshape(-1, 1)\n",
        "y_test_binary = y_test_binary.reshape(-1, 1)\n",
        "print(y_train_binary.shape)\n",
        "print(y_val_binary.shape)\n",
        "print(y_test_binary.shape)"
      ]
    },
    {
      "cell_type": "code",
      "execution_count": null,
      "metadata": {
        "id": "uteZuPlR7X3e"
      },
      "outputs": [],
      "source": [
        "import tensorflow as tf\n",
        "from tensorflow.keras.models import Sequential\n",
        "from tensorflow.keras.layers import Dense, Dropout\n",
        "from tensorflow.keras.callbacks import EarlyStopping\n",
        "import numpy as np\n",
        "import random\n",
        "\n",
        "# Random seed for reproducibility\n",
        "random.seed(42)\n",
        "np.random.seed(42)\n",
        "tf.random.set_seed(42)\n",
        "\n",
        "def build_bow_model(X_train, y_train, X_val, y_val, input_dim):\n",
        "    tf.keras.backend.clear_session()\n",
        "\n",
        "    model = Sequential([\n",
        "        Dense(128, activation='relu', input_shape=(input_dim,)),\n",
        "        Dropout(0.3),\n",
        "        Dense(64, activation='relu'),\n",
        "        Dropout(0.3),\n",
        "        Dense(1, activation='sigmoid')\n",
        "    ])\n",
        "\n",
        "    model.compile(optimizer='adam', loss='binary_crossentropy', metrics=['accuracy'])\n",
        "\n",
        "    history = model.fit(\n",
        "        X_train,\n",
        "        y_train,\n",
        "        epochs=10,\n",
        "        batch_size=32,\n",
        "        validation_data=(X_val, y_val),\n",
        "        callbacks=[EarlyStopping(monitor='val_loss', patience=2, restore_best_weights=True)]\n",
        "    )\n",
        "\n",
        "    loss, accuracy = model.evaluate(X_val, y_val)\n",
        "    print(f'Validation loss: {loss}, Validation accuracy: {accuracy}')\n",
        "\n",
        "    return model, history"
      ]
    },
    {
      "cell_type": "code",
      "execution_count": null,
      "metadata": {
        "scrolled": true,
        "id": "VRRBOzab7X3f",
        "outputId": "010941ee-a56a-4f0e-fbec-3cc3ca8e640b"
      },
      "outputs": [
        {
          "name": "stdout",
          "output_type": "stream",
          "text": [
            "Epoch 1/10\n",
            "986/986 [==============================] - 50s 50ms/step - loss: 0.1859 - accuracy: 0.9282 - val_loss: 0.1418 - val_accuracy: 0.9494\n",
            "Epoch 2/10\n",
            "986/986 [==============================] - 51s 52ms/step - loss: 0.0876 - accuracy: 0.9681 - val_loss: 0.1561 - val_accuracy: 0.9464\n",
            "Epoch 3/10\n",
            "986/986 [==============================] - 56s 57ms/step - loss: 0.0469 - accuracy: 0.9834 - val_loss: 0.1911 - val_accuracy: 0.9440\n",
            "329/329 [==============================] - 1s 2ms/step - loss: 0.1418 - accuracy: 0.9494\n",
            "Validation loss: 0.14183452725410461, Validation accuracy: 0.9493719339370728\n"
          ]
        },
        {
          "data": {
            "image/png": "[encoded data removed]",
            "text/plain": [
              "<Figure size 640x480 with 1 Axes>"
            ]
          },
          "metadata": {},
          "output_type": "display_data"
        }
      ],
      "source": [
        "import matplotlib.pyplot as plt\n",
        "\n",
        "input_dim = X_train_bow.shape[1]\n",
        "\n",
        "# Build the model and get history\n",
        "model_bow, history_bow = build_bow_model(\n",
        "    X_train_bow,\n",
        "    y_train_binary,\n",
        "    X_val_bow,\n",
        "    y_val_binary,\n",
        "    input_dim=input_dim\n",
        ")\n",
        "\n",
        "# Extract accuracy\n",
        "acc = history_bow.history['accuracy']\n",
        "val_acc = history_bow.history['val_accuracy']\n",
        "epochs = range(1, len(acc) + 1)\n",
        "\n",
        "# Plot\n",
        "plt.plot(epochs, acc, label='Training Accuracy')\n",
        "plt.plot(epochs, val_acc, label='Validation Accuracy')\n",
        "plt.title('Bag-of-Words Model: Training vs Validation Accuracy')\n",
        "plt.xlabel('Epochs')\n",
        "plt.ylabel('Accuracy')\n",
        "plt.legend()\n",
        "plt.tight_layout()\n",
        "plt.show()"
      ]
    },
    {
      "cell_type": "code",
      "execution_count": null,
      "metadata": {
        "id": "CzTkYbaBY0Ik",
        "outputId": "a94313e9-ab22-4c8b-a2ef-071313dfae87"
      },
      "outputs": [
        {
          "name": "stdout",
          "output_type": "stream",
          "text": [
            "329/329 [==============================] - 1s 2ms/step\n",
            "Test Accuracy: 0.946141402607289\n",
            "Test F1 Score: 0.9608141788978123\n"
          ]
        }
      ],
      "source": [
        "#evaluate on the test data\n",
        "from sklearn.metrics import accuracy_score, f1_score\n",
        "\n",
        "predictions = model_bow.predict(X_test_bow)\n",
        "predictions_rounded = predictions.round()\n",
        "\n",
        "accuracy = accuracy_score(y_test_binary, predictions_rounded)\n",
        "f1 = f1_score(y_test_binary, predictions_rounded)\n",
        "\n",
        "print(f\"Test Accuracy: {accuracy}\")\n",
        "print(f\"Test F1 Score: {f1}\")\n",
        "\n"
      ]
    },
    {
      "cell_type": "markdown",
      "metadata": {
        "id": "GCXekSddY0Ik"
      },
      "source": [
        "Our model generalizes well to the testing data with an accuracy of ~95% and an F1 score of 96%."
      ]
    },
    {
      "cell_type": "markdown",
      "metadata": {
        "id": "XaLdKdyiX1Iu"
      },
      "source": [
        "# Multi Class Models:\n",
        "\n",
        "Baseline model: Logistic regression without embeddings, only one dense layer, multiclass output"
      ]
    },
    {
      "cell_type": "code",
      "execution_count": null,
      "metadata": {
        "id": "Eo_9RSNU7X3g"
      },
      "outputs": [],
      "source": [
        "#tokenize and vectorize text\n",
        "max_features = 10000\n",
        "sequence_length = 500 #will pad sequences to length 500\n",
        "\n",
        "vectorize_layer = layers.TextVectorization(max_tokens=max_features,\n",
        "    output_mode='int',\n",
        "    output_sequence_length=sequence_length)\n",
        "\n",
        "#adapting vectorize layer to X_train\n",
        "vectorize_layer.adapt(X_train)"
      ]
    },
    {
      "cell_type": "code",
      "execution_count": null,
      "metadata": {
        "id": "HlmLnVWu7X3g",
        "outputId": "42bd24a0-f378-4c77-9c66-cacda369986d"
      },
      "outputs": [
        {
          "name": "stdout",
          "output_type": "stream",
          "text": [
            "feel really weirdly almost always horny really depress normal\n",
            "tf.Tensor(\n",
            "[   2   18 3408  156   48 3580   18   97  173    0    0    0    0    0\n",
            "    0    0    0    0    0    0    0    0    0    0    0    0    0    0\n",
            "    0    0    0    0    0    0    0    0    0    0    0    0    0    0\n",
            "    0    0    0    0    0    0    0    0    0    0    0    0    0    0\n",
            "    0    0    0    0    0    0    0    0    0    0    0    0    0    0\n",
            "    0    0    0    0    0    0    0    0    0    0    0    0    0    0\n",
            "    0    0    0    0    0    0    0    0    0    0    0    0    0    0\n",
            "    0    0    0    0    0    0    0    0    0    0    0    0    0    0\n",
            "    0    0    0    0    0    0    0    0    0    0    0    0    0    0\n",
            "    0    0    0    0    0    0    0    0    0    0    0    0    0    0\n",
            "    0    0    0    0    0    0    0    0    0    0    0    0    0    0\n",
            "    0    0    0    0    0    0    0    0    0    0    0    0    0    0\n",
            "    0    0    0    0    0    0    0    0    0    0    0    0    0    0\n",
            "    0    0    0    0    0    0    0    0    0    0    0    0    0    0\n",
            "    0    0    0    0    0    0    0    0    0    0    0    0    0    0\n",
            "    0    0    0    0    0    0    0    0    0    0    0    0    0    0\n",
            "    0    0    0    0    0    0    0    0    0    0    0    0    0    0\n",
            "    0    0    0    0    0    0    0    0    0    0    0    0    0    0\n",
            "    0    0    0    0    0    0    0    0    0    0    0    0    0    0\n",
            "    0    0    0    0    0    0    0    0    0    0    0    0    0    0\n",
            "    0    0    0    0    0    0    0    0    0    0    0    0    0    0\n",
            "    0    0    0    0    0    0    0    0    0    0    0    0    0    0\n",
            "    0    0    0    0    0    0    0    0    0    0    0    0    0    0\n",
            "    0    0    0    0    0    0    0    0    0    0    0    0    0    0\n",
            "    0    0    0    0    0    0    0    0    0    0    0    0    0    0\n",
            "    0    0    0    0    0    0    0    0    0    0    0    0    0    0\n",
            "    0    0    0    0    0    0    0    0    0    0    0    0    0    0\n",
            "    0    0    0    0    0    0    0    0    0    0    0    0    0    0\n",
            "    0    0    0    0    0    0    0    0    0    0    0    0    0    0\n",
            "    0    0    0    0    0    0    0    0    0    0    0    0    0    0\n",
            "    0    0    0    0    0    0    0    0    0    0    0    0    0    0\n",
            "    0    0    0    0    0    0    0    0    0    0    0    0    0    0\n",
            "    0    0    0    0    0    0    0    0    0    0    0    0    0    0\n",
            "    0    0    0    0    0    0    0    0    0    0    0    0    0    0\n",
            "    0    0    0    0    0    0    0    0    0    0    0    0    0    0\n",
            "    0    0    0    0    0    0    0    0    0    0], shape=(500,), dtype=int64)\n",
            "get nothing leave family relationship friend dead end blade soon sit family plot ill lie soon\n",
            "tf.Tensor(\n",
            "[   4   58   66   62  141   24  308   49 2362  262  263   62 3554  146\n",
            "  328  262    0    0    0    0    0    0    0    0    0    0    0    0\n",
            "    0    0    0    0    0    0    0    0    0    0    0    0    0    0\n",
            "    0    0    0    0    0    0    0    0    0    0    0    0    0    0\n",
            "    0    0    0    0    0    0    0    0    0    0    0    0    0    0\n",
            "    0    0    0    0    0    0    0    0    0    0    0    0    0    0\n",
            "    0    0    0    0    0    0    0    0    0    0    0    0    0    0\n",
            "    0    0    0    0    0    0    0    0    0    0    0    0    0    0\n",
            "    0    0    0    0    0    0    0    0    0    0    0    0    0    0\n",
            "    0    0    0    0    0    0    0    0    0    0    0    0    0    0\n",
            "    0    0    0    0    0    0    0    0    0    0    0    0    0    0\n",
            "    0    0    0    0    0    0    0    0    0    0    0    0    0    0\n",
            "    0    0    0    0    0    0    0    0    0    0    0    0    0    0\n",
            "    0    0    0    0    0    0    0    0    0    0    0    0    0    0\n",
            "    0    0    0    0    0    0    0    0    0    0    0    0    0    0\n",
            "    0    0    0    0    0    0    0    0    0    0    0    0    0    0\n",
            "    0    0    0    0    0    0    0    0    0    0    0    0    0    0\n",
            "    0    0    0    0    0    0    0    0    0    0    0    0    0    0\n",
            "    0    0    0    0    0    0    0    0    0    0    0    0    0    0\n",
            "    0    0    0    0    0    0    0    0    0    0    0    0    0    0\n",
            "    0    0    0    0    0    0    0    0    0    0    0    0    0    0\n",
            "    0    0    0    0    0    0    0    0    0    0    0    0    0    0\n",
            "    0    0    0    0    0    0    0    0    0    0    0    0    0    0\n",
            "    0    0    0    0    0    0    0    0    0    0    0    0    0    0\n",
            "    0    0    0    0    0    0    0    0    0    0    0    0    0    0\n",
            "    0    0    0    0    0    0    0    0    0    0    0    0    0    0\n",
            "    0    0    0    0    0    0    0    0    0    0    0    0    0    0\n",
            "    0    0    0    0    0    0    0    0    0    0    0    0    0    0\n",
            "    0    0    0    0    0    0    0    0    0    0    0    0    0    0\n",
            "    0    0    0    0    0    0    0    0    0    0    0    0    0    0\n",
            "    0    0    0    0    0    0    0    0    0    0    0    0    0    0\n",
            "    0    0    0    0    0    0    0    0    0    0    0    0    0    0\n",
            "    0    0    0    0    0    0    0    0    0    0    0    0    0    0\n",
            "    0    0    0    0    0    0    0    0    0    0    0    0    0    0\n",
            "    0    0    0    0    0    0    0    0    0    0    0    0    0    0\n",
            "    0    0    0    0    0    0    0    0    0    0], shape=(500,), dtype=int64)\n",
            "pointless continue live life future already mid 30 basically middle age man break body mind go walk exhaust entire day 3miles weak physically mentally personal relationship anyone cannot deal loneliness long social person isolation yr deal physical mental issue suicidal depress nobody\n",
            "tf.Tensor(\n",
            "[ 873  364   32    9  253  167 1783  604  347  666  333  345  105  200\n",
            "  152    5  289  425  422   16    1  645  508  417  753  141   52   10\n",
            "  154  857   59  210   82 1549 1674  154  442  117  166  168   97  287\n",
            "    0    0    0    0    0    0    0    0    0    0    0    0    0    0\n",
            "    0    0    0    0    0    0    0    0    0    0    0    0    0    0\n",
            "    0    0    0    0    0    0    0    0    0    0    0    0    0    0\n",
            "    0    0    0    0    0    0    0    0    0    0    0    0    0    0\n",
            "    0    0    0    0    0    0    0    0    0    0    0    0    0    0\n",
            "    0    0    0    0    0    0    0    0    0    0    0    0    0    0\n",
            "    0    0    0    0    0    0    0    0    0    0    0    0    0    0\n",
            "    0    0    0    0    0    0    0    0    0    0    0    0    0    0\n",
            "    0    0    0    0    0    0    0    0    0    0    0    0    0    0\n",
            "    0    0    0    0    0    0    0    0    0    0    0    0    0    0\n",
            "    0    0    0    0    0    0    0    0    0    0    0    0    0    0\n",
            "    0    0    0    0    0    0    0    0    0    0    0    0    0    0\n",
            "    0    0    0    0    0    0    0    0    0    0    0    0    0    0\n",
            "    0    0    0    0    0    0    0    0    0    0    0    0    0    0\n",
            "    0    0    0    0    0    0    0    0    0    0    0    0    0    0\n",
            "    0    0    0    0    0    0    0    0    0    0    0    0    0    0\n",
            "    0    0    0    0    0    0    0    0    0    0    0    0    0    0\n",
            "    0    0    0    0    0    0    0    0    0    0    0    0    0    0\n",
            "    0    0    0    0    0    0    0    0    0    0    0    0    0    0\n",
            "    0    0    0    0    0    0    0    0    0    0    0    0    0    0\n",
            "    0    0    0    0    0    0    0    0    0    0    0    0    0    0\n",
            "    0    0    0    0    0    0    0    0    0    0    0    0    0    0\n",
            "    0    0    0    0    0    0    0    0    0    0    0    0    0    0\n",
            "    0    0    0    0    0    0    0    0    0    0    0    0    0    0\n",
            "    0    0    0    0    0    0    0    0    0    0    0    0    0    0\n",
            "    0    0    0    0    0    0    0    0    0    0    0    0    0    0\n",
            "    0    0    0    0    0    0    0    0    0    0    0    0    0    0\n",
            "    0    0    0    0    0    0    0    0    0    0    0    0    0    0\n",
            "    0    0    0    0    0    0    0    0    0    0    0    0    0    0\n",
            "    0    0    0    0    0    0    0    0    0    0    0    0    0    0\n",
            "    0    0    0    0    0    0    0    0    0    0    0    0    0    0\n",
            "    0    0    0    0    0    0    0    0    0    0    0    0    0    0\n",
            "    0    0    0    0    0    0    0    0    0    0], shape=(500,), dtype=int64)\n",
            "stand great wall look around\n",
            "tf.Tensor(\n",
            "[438 220 883  68  87   0   0   0   0   0   0   0   0   0   0   0   0   0\n",
            "   0   0   0   0   0   0   0   0   0   0   0   0   0   0   0   0   0   0\n",
            "   0   0   0   0   0   0   0   0   0   0   0   0   0   0   0   0   0   0\n",
            "   0   0   0   0   0   0   0   0   0   0   0   0   0   0   0   0   0   0\n",
            "   0   0   0   0   0   0   0   0   0   0   0   0   0   0   0   0   0   0\n",
            "   0   0   0   0   0   0   0   0   0   0   0   0   0   0   0   0   0   0\n",
            "   0   0   0   0   0   0   0   0   0   0   0   0   0   0   0   0   0   0\n",
            "   0   0   0   0   0   0   0   0   0   0   0   0   0   0   0   0   0   0\n",
            "   0   0   0   0   0   0   0   0   0   0   0   0   0   0   0   0   0   0\n",
            "   0   0   0   0   0   0   0   0   0   0   0   0   0   0   0   0   0   0\n",
            "   0   0   0   0   0   0   0   0   0   0   0   0   0   0   0   0   0   0\n",
            "   0   0   0   0   0   0   0   0   0   0   0   0   0   0   0   0   0   0\n",
            "   0   0   0   0   0   0   0   0   0   0   0   0   0   0   0   0   0   0\n",
            "   0   0   0   0   0   0   0   0   0   0   0   0   0   0   0   0   0   0\n",
            "   0   0   0   0   0   0   0   0   0   0   0   0   0   0   0   0   0   0\n",
            "   0   0   0   0   0   0   0   0   0   0   0   0   0   0   0   0   0   0\n",
            "   0   0   0   0   0   0   0   0   0   0   0   0   0   0   0   0   0   0\n",
            "   0   0   0   0   0   0   0   0   0   0   0   0   0   0   0   0   0   0\n",
            "   0   0   0   0   0   0   0   0   0   0   0   0   0   0   0   0   0   0\n",
            "   0   0   0   0   0   0   0   0   0   0   0   0   0   0   0   0   0   0\n",
            "   0   0   0   0   0   0   0   0   0   0   0   0   0   0   0   0   0   0\n",
            "   0   0   0   0   0   0   0   0   0   0   0   0   0   0   0   0   0   0\n",
            "   0   0   0   0   0   0   0   0   0   0   0   0   0   0   0   0   0   0\n",
            "   0   0   0   0   0   0   0   0   0   0   0   0   0   0   0   0   0   0\n",
            "   0   0   0   0   0   0   0   0   0   0   0   0   0   0   0   0   0   0\n",
            "   0   0   0   0   0   0   0   0   0   0   0   0   0   0   0   0   0   0\n",
            "   0   0   0   0   0   0   0   0   0   0   0   0   0   0   0   0   0   0\n",
            "   0   0   0   0   0   0   0   0   0   0   0   0   0   0], shape=(500,), dtype=int64)\n",
            "think useless try kill concoction take 22 1mg xanax well 150mg tramadol 25mg diphenhydramine 150mg seroquel lucky old brother find slump unresponsive call 911 tell breathe strangely take hospital find whole lotta drug take reason er doctor tell brother marijuana find system serious really man never touch weed assume anyway find benzos take whole script xanax recollection black take benedryl wake next morning bandage iv parent happy though live wake childhood bedrooom please mess benzos extremely dangerous brother find unconscious chock spit turn onto side grateful realize precious life always depress find point life change hope somebody find helpful near death thank god brother weird feel come check likely save life overdose today suddenly weird glimpse mother girlfriend cry miss\n",
            "tf.Tensor(\n",
            "[   8  566   23   73    1   21  969 5296 1675   93 3918 5804 3341    1\n",
            " 3918 1384  885  110  360   53 3000 8603  125 3165   31  558 5346   21\n",
            "  357   53  218    1  383   21  108 1168  169   31  360 2928   53  779\n",
            "  610   18  345   30  676  755  979  390   53 2313   21  218 3092 1675\n",
            " 7397  927   21    1  163  184  270 6354 2357   99   89  133   32  163\n",
            "  605    1  157  398 2313  353 1435  360   53 3765    1 3543  188 1095\n",
            "  244 1002  240 2780    9   48   97   53   86    9  140  136  893   53\n",
            " 1001  759  233  165  322  360  288    2   51  374  732  431    9  995\n",
            "  118  642  288 5231  266  370  122  231    0    0    0    0    0    0\n",
            "    0    0    0    0    0    0    0    0    0    0    0    0    0    0\n",
            "    0    0    0    0    0    0    0    0    0    0    0    0    0    0\n",
            "    0    0    0    0    0    0    0    0    0    0    0    0    0    0\n",
            "    0    0    0    0    0    0    0    0    0    0    0    0    0    0\n",
            "    0    0    0    0    0    0    0    0    0    0    0    0    0    0\n",
            "    0    0    0    0    0    0    0    0    0    0    0    0    0    0\n",
            "    0    0    0    0    0    0    0    0    0    0    0    0    0    0\n",
            "    0    0    0    0    0    0    0    0    0    0    0    0    0    0\n",
            "    0    0    0    0    0    0    0    0    0    0    0    0    0    0\n",
            "    0    0    0    0    0    0    0    0    0    0    0    0    0    0\n",
            "    0    0    0    0    0    0    0    0    0    0    0    0    0    0\n",
            "    0    0    0    0    0    0    0    0    0    0    0    0    0    0\n",
            "    0    0    0    0    0    0    0    0    0    0    0    0    0    0\n",
            "    0    0    0    0    0    0    0    0    0    0    0    0    0    0\n",
            "    0    0    0    0    0    0    0    0    0    0    0    0    0    0\n",
            "    0    0    0    0    0    0    0    0    0    0    0    0    0    0\n",
            "    0    0    0    0    0    0    0    0    0    0    0    0    0    0\n",
            "    0    0    0    0    0    0    0    0    0    0    0    0    0    0\n",
            "    0    0    0    0    0    0    0    0    0    0    0    0    0    0\n",
            "    0    0    0    0    0    0    0    0    0    0    0    0    0    0\n",
            "    0    0    0    0    0    0    0    0    0    0    0    0    0    0\n",
            "    0    0    0    0    0    0    0    0    0    0    0    0    0    0\n",
            "    0    0    0    0    0    0    0    0    0    0    0    0    0    0\n",
            "    0    0    0    0    0    0    0    0    0    0    0    0    0    0\n",
            "    0    0    0    0    0    0    0    0    0    0    0    0    0    0\n",
            "    0    0    0    0    0    0    0    0    0    0    0    0    0    0\n",
            "    0    0    0    0    0    0    0    0    0    0], shape=(500,), dtype=int64)\n"
          ]
        }
      ],
      "source": [
        "#sanity check: try vectorizing first five examples of X_train\n",
        "for text in X_train['0'][:5]:\n",
        "    print(text)\n",
        "    print(vectorize_layer(text))"
      ]
    },
    {
      "cell_type": "code",
      "execution_count": null,
      "metadata": {
        "id": "nDLh9S5U7X3g",
        "outputId": "3eee0e46-c9c1-47ba-fe59-a04b3ebba2d6"
      },
      "outputs": [
        {
          "name": "stdout",
          "output_type": "stream",
          "text": [
            "1287 --->  curious\n",
            " 313 --->  second\n",
            "Vocabulary size: 10000\n"
          ]
        }
      ],
      "source": [
        "#vocabulary examples\n",
        "print(\"1287 ---> \",vectorize_layer.get_vocabulary()[1287])\n",
        "print(\" 313 ---> \",vectorize_layer.get_vocabulary()[313])\n",
        "print('Vocabulary size: {}'.format(len(vectorize_layer.get_vocabulary())))"
      ]
    },
    {
      "cell_type": "code",
      "execution_count": null,
      "metadata": {
        "id": "L5YxaVIC7X3g"
      },
      "outputs": [],
      "source": [
        "#applying vectorization to train, test and val\n",
        "X_train_vectorized = vectorize_layer(X_train)\n",
        "X_test_vectorized = vectorize_layer(X_test)\n",
        "X_val_vectorized = vectorize_layer(X_val)"
      ]
    },
    {
      "cell_type": "code",
      "execution_count": null,
      "metadata": {
        "id": "Aufq59SJ7X3g",
        "outputId": "26671daf-bb81-4fba-c736-83df635887c0"
      },
      "outputs": [
        {
          "name": "stdout",
          "output_type": "stream",
          "text": [
            "(31524, 1)\n",
            "(10508, 1)\n",
            "(10509, 1)\n"
          ]
        }
      ],
      "source": [
        "#Reshape arrays to work better with tf\n",
        "y_train_binary = y_train_binary.reshape(-1, 1)\n",
        "y_val_binary = y_val_binary.reshape(-1, 1)\n",
        "y_test_binary = y_test_binary.reshape(-1, 1)\n",
        "print(y_train_binary.shape)\n",
        "print(y_val_binary.shape)\n",
        "print(y_test_binary.shape)"
      ]
    },
    {
      "cell_type": "code",
      "execution_count": null,
      "metadata": {
        "id": "FLLaiXM-nyja",
        "outputId": "6a14c104-670c-4234-bcdf-a15c7526141b"
      },
      "outputs": [
        {
          "name": "stdout",
          "output_type": "stream",
          "text": [
            "WARNING:tensorflow:From /home/w205/.local/lib/python3.7/site-packages/tensorflow/python/autograph/pyct/static_analysis/liveness.py:83: Analyzer.lamba_check (from tensorflow.python.autograph.pyct.static_analysis.liveness) is deprecated and will be removed after 2023-09-23.\n",
            "Instructions for updating:\n",
            "Lambda fuctions will be no more assumed to be used in the statement where they are used, or at least in the same block. https://github.com/tensorflow/tensorflow/issues/56089\n"
          ]
        }
      ],
      "source": [
        "\n",
        "#combining train, test and val into datasets\n",
        "train_ds = tf.data.Dataset.from_tensor_slices((X_train_vectorized, y_train))\n",
        "test_ds = tf.data.Dataset.from_tensor_slices((X_test_vectorized, y_test))\n",
        "val_ds = tf.data.Dataset.from_tensor_slices((X_val_vectorized, y_val))\n",
        "\n",
        "#configuring dataset for performance\n",
        "AUTOTUNE = tf.data.AUTOTUNE\n",
        "\n",
        "train_ds = train_ds.cache().prefetch(buffer_size=AUTOTUNE)\n",
        "val_ds = val_ds.cache().prefetch(buffer_size=AUTOTUNE)\n",
        "test_ds = test_ds.cache().prefetch(buffer_size=AUTOTUNE)\n",
        "\n",
        "train_ds = train_ds.map(lambda x, y: (tf.cast(x, tf.float32), y))\n",
        "train_ds = train_ds.batch(64)\n",
        "val_ds = val_ds.map(lambda x, y: (tf.cast(x, tf.float32), y))\n",
        "val_ds = val_ds.batch(64)\n",
        "test_ds = test_ds.map(lambda x, y: (tf.cast(x, tf.float32), y))\n",
        "test_ds = test_ds.batch(64)"
      ]
    },
    {
      "cell_type": "code",
      "execution_count": null,
      "metadata": {
        "id": "oVFb3cxlX6n9"
      },
      "outputs": [],
      "source": [
        "tf.keras.backend.clear_session()\n",
        "tf.random.set_seed(42)\n",
        "\n",
        "model_baseline = tf.keras.Sequential()\n",
        "model_baseline.add(layers.InputLayer(input_shape=(500,)))\n",
        "model_baseline.add(layers.Dense(7, activation='softmax'))\n",
        "optimizer = tf.keras.optimizers.Adam(learning_rate=0.01)\n",
        "model_baseline.compile(loss='sparse_categorical_crossentropy', optimizer=optimizer, metrics=['accuracy'])"
      ]
    },
    {
      "cell_type": "code",
      "execution_count": null,
      "metadata": {
        "id": "Gsp8D7XaYBvW",
        "outputId": "5bf13a7a-41de-4c82-cf28-e70a58ec033e"
      },
      "outputs": [
        {
          "name": "stdout",
          "output_type": "stream",
          "text": [
            "Epoch 1/10\n",
            "493/493 [==============================] - 2s 4ms/step - loss: 277.4599 - accuracy: 0.3271 - val_loss: 260.5712 - val_accuracy: 0.3774\n",
            "Epoch 2/10\n",
            "493/493 [==============================] - 2s 4ms/step - loss: 243.4422 - accuracy: 0.3307 - val_loss: 260.9951 - val_accuracy: 0.2942\n",
            "Epoch 3/10\n",
            "493/493 [==============================] - 2s 4ms/step - loss: 239.8243 - accuracy: 0.3283 - val_loss: 263.0027 - val_accuracy: 0.3719\n",
            "Epoch 4/10\n",
            "493/493 [==============================] - 2s 4ms/step - loss: 239.8372 - accuracy: 0.3311 - val_loss: 277.8186 - val_accuracy: 0.3671\n",
            "Epoch 5/10\n",
            "493/493 [==============================] - 2s 4ms/step - loss: 237.3010 - accuracy: 0.3326 - val_loss: 292.1127 - val_accuracy: 0.2885\n",
            "Epoch 6/10\n",
            "493/493 [==============================] - 2s 4ms/step - loss: 237.9892 - accuracy: 0.3323 - val_loss: 302.6898 - val_accuracy: 0.2564\n",
            "Epoch 7/10\n",
            "493/493 [==============================] - 2s 4ms/step - loss: 233.9043 - accuracy: 0.3309 - val_loss: 296.8814 - val_accuracy: 0.2588\n",
            "Epoch 8/10\n",
            "493/493 [==============================] - 2s 4ms/step - loss: 232.2111 - accuracy: 0.3322 - val_loss: 298.5326 - val_accuracy: 0.3538\n",
            "Epoch 9/10\n",
            "493/493 [==============================] - 2s 5ms/step - loss: 231.8482 - accuracy: 0.3323 - val_loss: 298.8811 - val_accuracy: 0.3599\n",
            "Epoch 10/10\n",
            "493/493 [==============================] - 2s 5ms/step - loss: 233.2607 - accuracy: 0.3325 - val_loss: 311.7700 - val_accuracy: 0.2933\n"
          ]
        },
        {
          "data": {
            "image/png": "[encoded data removed]",
            "text/plain": [
              "<Figure size 640x480 with 1 Axes>"
            ]
          },
          "metadata": {},
          "output_type": "display_data"
        }
      ],
      "source": [
        "history_baseline = model_baseline.fit(train_ds, validation_data=val_ds, epochs=10)\n",
        "\n",
        "history_dict = history_baseline.history\n",
        "acc = history_dict['accuracy']\n",
        "val_acc = history_dict['val_accuracy']\n",
        "loss = history_dict['loss']\n",
        "val_loss = history_dict['val_loss']\n",
        "\n",
        "epochs = range(1, len(acc) + 1)\n",
        "\n",
        "plt.plot(epochs, acc, label='Training Acc')\n",
        "plt.plot(epochs, val_acc, label='Validation Acc')\n",
        "plt.title('Training and Validation Accuracy')\n",
        "plt.xlabel('Epochs')\n",
        "plt.ylabel('Accuracy')\n",
        "plt.legend()\n",
        "\n",
        "plt.show()"
      ]
    },
    {
      "cell_type": "code",
      "execution_count": null,
      "metadata": {
        "id": "FZ-UQ4kLY0Im",
        "outputId": "0d87018a-6745-4d78-f58e-56d73047d511"
      },
      "outputs": [
        {
          "name": "stdout",
          "output_type": "stream",
          "text": [
            "329/329 [==============================] - 0s 1ms/step\n",
            "Test F1 Score: 0.2993632209854064\n",
            "Test Classification Report:\n",
            "               precision    recall  f1-score   support\n",
            "\n",
            "           0       0.09      0.08      0.08       776\n",
            "           1       0.08      0.11      0.09       539\n",
            "           2       0.30      0.37      0.33      3069\n",
            "           3       0.61      0.42      0.49      3281\n",
            "           4       0.03      0.01      0.02       217\n",
            "           5       0.08      0.28      0.12       513\n",
            "           6       0.24      0.12      0.16      2114\n",
            "\n",
            "    accuracy                           0.29     10509\n",
            "   macro avg       0.20      0.20      0.19     10509\n",
            "weighted avg       0.34      0.29      0.30     10509\n",
            "\n"
          ]
        }
      ],
      "source": [
        "from sklearn.metrics import f1_score, classification_report\n",
        "\n",
        "y_test_pred = model_baseline.predict(X_test_vectorized)\n",
        "y_test_pred = np.argmax(y_test_pred, axis=1)\n",
        "test_f1 = f1_score(y_test, y_test_pred, average='weighted')\n",
        "print(f\"Test F1 Score: {test_f1}\")\n",
        "print(\"Test Classification Report:\\n\", classification_report(y_test, y_test_pred))\n"
      ]
    },
    {
      "cell_type": "markdown",
      "metadata": {
        "id": "PBwK4Akl7X3h"
      },
      "source": [
        "Accuracy of the baseline linear regression model is only 34%."
      ]
    },
    {
      "cell_type": "markdown",
      "metadata": {
        "id": "tLYQrtn4MoUr"
      },
      "source": [
        "Best Model: Feature Engineering - combining stress/anxiety and depression/suicidal classes"
      ]
    },
    {
      "cell_type": "code",
      "execution_count": null,
      "metadata": {
        "id": "XobFH2FpMxsZ"
      },
      "outputs": [],
      "source": [
        "#change 5 to 0 and 6 to 2 in y_train\n",
        "y_train_condensed = y_train['0'].map(lambda x: 0 if x == 5 else x)\n",
        "y_train_condensed = y_train_condensed.map(lambda x: 2 if x == 6 else x)\n",
        "y_test_condensed = y_test['0'].map(lambda x: 0 if x == 5 else x)\n",
        "y_test_condensed = y_test_condensed.map(lambda x: 2 if x == 6 else x)\n",
        "y_val_condensed = y_val['0'].map(lambda x: 0 if x == 5 else x)\n",
        "y_val_condensed = y_val_condensed.map(lambda x: 2 if x == 6 else x)\n",
        "\n",
        "#combining train, test and val into datasets\n",
        "train_cond = tf.data.Dataset.from_tensor_slices((X_train_vectorized, y_train_condensed))\n",
        "test_cond = tf.data.Dataset.from_tensor_slices((X_test_vectorized, y_test_condensed))\n",
        "val_cond = tf.data.Dataset.from_tensor_slices((X_val_vectorized, y_val_condensed))\n",
        "\n",
        "#configuring dataset for performance\n",
        "AUTOTUNE = tf.data.AUTOTUNE\n",
        "\n",
        "train_cond = train_cond.cache().prefetch(buffer_size=AUTOTUNE)\n",
        "val_cond = val_cond.cache().prefetch(buffer_size=AUTOTUNE)\n",
        "test_cond = test_cond.cache().prefetch(buffer_size=AUTOTUNE)\n",
        "\n",
        "train_cond = train_cond.map(lambda x, y: (tf.cast(x, tf.float32), y))\n",
        "train_cond = train_cond.batch(64)\n",
        "val_cond = val_cond.map(lambda x, y: (tf.cast(x, tf.float32), y))\n",
        "val_cond = val_cond.batch(64)\n",
        "test_cond = test_cond.map(lambda x, y: (tf.cast(x, tf.float32), y))\n",
        "test_cond = test_cond.batch(64)"
      ]
    },
    {
      "cell_type": "code",
      "execution_count": null,
      "metadata": {
        "id": "VHxUA_bfPVZM"
      },
      "outputs": [],
      "source": [
        "tf.keras.backend.clear_session()\n",
        "tf.random.set_seed(42)\n",
        "embedding_dim = 48\n",
        "\n",
        "model_cond = tf.keras.Sequential([\n",
        "    layers.Embedding(10000, embedding_dim),\n",
        "    layers.Dropout(0.2),\n",
        "    layers.GlobalAveragePooling1D(),\n",
        "    layers.Dropout(0.2),\n",
        "    layers.Dense(5, activation='softmax')\n",
        "])"
      ]
    },
    {
      "cell_type": "code",
      "execution_count": null,
      "metadata": {
        "id": "SSD4DzIvSBxE",
        "outputId": "f5cfa4c1-06d3-41e9-ea6d-36cef34d0b8a"
      },
      "outputs": [
        {
          "name": "stdout",
          "output_type": "stream",
          "text": [
            "Epoch 1/50\n",
            "493/493 [==============================] - 12s 23ms/step - loss: 0.8574 - accuracy: 0.6917 - val_loss: 0.6168 - val_accuracy: 0.7884\n",
            "Epoch 2/50\n",
            "493/493 [==============================] - 11s 22ms/step - loss: 0.5623 - accuracy: 0.8066 - val_loss: 0.4950 - val_accuracy: 0.8258\n",
            "Epoch 3/50\n",
            "493/493 [==============================] - 11s 22ms/step - loss: 0.4452 - accuracy: 0.8523 - val_loss: 0.4441 - val_accuracy: 0.8473\n",
            "Epoch 4/50\n",
            "493/493 [==============================] - 11s 22ms/step - loss: 0.3765 - accuracy: 0.8789 - val_loss: 0.4181 - val_accuracy: 0.8619\n",
            "Epoch 5/50\n",
            "493/493 [==============================] - 11s 22ms/step - loss: 0.3276 - accuracy: 0.8950 - val_loss: 0.4097 - val_accuracy: 0.8672\n",
            "Epoch 6/50\n",
            "493/493 [==============================] - 11s 22ms/step - loss: 0.2917 - accuracy: 0.9070 - val_loss: 0.4112 - val_accuracy: 0.8725\n",
            "Epoch 7/50\n",
            "493/493 [==============================] - 11s 22ms/step - loss: 0.2628 - accuracy: 0.9175 - val_loss: 0.4164 - val_accuracy: 0.8727\n",
            "Epoch 8/50\n",
            "493/493 [==============================] - 11s 23ms/step - loss: 0.2394 - accuracy: 0.9250 - val_loss: 0.4255 - val_accuracy: 0.8738\n",
            "Epoch 9/50\n",
            "493/493 [==============================] - 11s 22ms/step - loss: 0.2245 - accuracy: 0.9302 - val_loss: 0.4360 - val_accuracy: 0.8747\n",
            "Epoch 10/50\n",
            "493/493 [==============================] - 11s 22ms/step - loss: 0.2054 - accuracy: 0.9360 - val_loss: 0.4566 - val_accuracy: 0.8754\n",
            "Epoch 11/50\n",
            "493/493 [==============================] - 11s 23ms/step - loss: 0.1969 - accuracy: 0.9381 - val_loss: 0.4629 - val_accuracy: 0.8764\n",
            "Epoch 12/50\n",
            "493/493 [==============================] - 11s 23ms/step - loss: 0.1844 - accuracy: 0.9424 - val_loss: 0.4874 - val_accuracy: 0.8731\n",
            "Epoch 13/50\n",
            "493/493 [==============================] - 11s 23ms/step - loss: 0.1763 - accuracy: 0.9457 - val_loss: 0.5140 - val_accuracy: 0.8695\n",
            "Epoch 14/50\n",
            "493/493 [==============================] - 11s 22ms/step - loss: 0.1629 - accuracy: 0.9500 - val_loss: 0.5148 - val_accuracy: 0.8732\n",
            "Epoch 15/50\n",
            "493/493 [==============================] - 11s 23ms/step - loss: 0.1613 - accuracy: 0.9500 - val_loss: 0.5351 - val_accuracy: 0.8715\n",
            "Epoch 16/50\n",
            "493/493 [==============================] - ETA: 0s - loss: 0.1529 - accuracy: 0.9521Restoring model weights from the end of the best epoch: 11.\n",
            "493/493 [==============================] - 11s 22ms/step - loss: 0.1529 - accuracy: 0.9521 - val_loss: 0.5699 - val_accuracy: 0.8676\n",
            "Epoch 16: early stopping\n",
            "Model: \"sequential\"\n",
            "_________________________________________________________________\n",
            " Layer (type)                Output Shape              Param #   \n",
            "=================================================================\n",
            " embedding (Embedding)       (None, None, 48)          480000    \n",
            "                                                                 \n",
            " dropout (Dropout)           (None, None, 48)          0         \n",
            "                                                                 \n",
            " global_average_pooling1d (G  (None, 48)               0         \n",
            " lobalAveragePooling1D)                                          \n",
            "                                                                 \n",
            " dropout_1 (Dropout)         (None, 48)                0         \n",
            "                                                                 \n",
            " dense (Dense)               (None, 5)                 245       \n",
            "                                                                 \n",
            "=================================================================\n",
            "Total params: 480,245\n",
            "Trainable params: 480,245\n",
            "Non-trainable params: 0\n",
            "_________________________________________________________________\n"
          ]
        },
        {
          "data": {
            "image/png": "[encoded data removed]",
            "text/plain": [
              "<Figure size 640x480 with 1 Axes>"
            ]
          },
          "metadata": {},
          "output_type": "display_data"
        }
      ],
      "source": [
        "optimizer = tf.keras.optimizers.Adam(learning_rate=0.01)\n",
        "model_cond.compile(loss='sparse_categorical_crossentropy', optimizer=optimizer, metrics=['accuracy'])\n",
        "\n",
        "# define an instance of the early_stopping class\n",
        "early_stopping = tf.keras.callbacks.EarlyStopping(\n",
        "monitor='val_accuracy',\n",
        "verbose=1,\n",
        "patience=5,\n",
        "mode='max',\n",
        "restore_best_weights=True)\n",
        "\n",
        "history_cond = model_cond.fit(\n",
        "    train_cond,\n",
        "    validation_data=val_cond,\n",
        "    epochs=50,\n",
        "    callbacks=[early_stopping]\n",
        ")\n",
        "\n",
        "model_cond.summary()\n",
        "\n",
        "history_dict_3 = history_cond.history\n",
        "acc = history_dict_3['accuracy']\n",
        "val_acc = history_dict_3['val_accuracy']\n",
        "loss = history_dict_3['loss']\n",
        "val_loss = history_dict_3['val_loss']\n",
        "\n",
        "epochs = range(1, len(acc) + 1)\n",
        "\n",
        "plt.plot(epochs, acc, label='Training Acc')\n",
        "plt.plot(epochs, val_acc, label='Validation Acc')\n",
        "plt.title('Training and Validation Accuracy')\n",
        "plt.xlabel('Epochs')\n",
        "plt.ylabel('Accuracy')\n",
        "plt.legend()\n",
        "\n",
        "plt.show()\n"
      ]
    },
    {
      "cell_type": "code",
      "execution_count": null,
      "metadata": {
        "id": "cBhdaIvKVeuc",
        "outputId": "ddf07476-45e1-4d07-d26e-3b87e9c75d14"
      },
      "outputs": [
        {
          "name": "stdout",
          "output_type": "stream",
          "text": [
            "329/329 [==============================] - 1s 2ms/step\n",
            "Test Accuracy: 0.879246360262632\n",
            "Test F1 Score: 0.8770709618862627\n",
            "Test Classification Report:\n",
            "               precision    recall  f1-score   support\n",
            "\n",
            "           0       0.77      0.73      0.75      1289\n",
            "           1       0.88      0.69      0.77       539\n",
            "           2       0.90      0.92      0.91      5183\n",
            "           3       0.89      0.92      0.91      3281\n",
            "           4       0.86      0.54      0.66       217\n",
            "\n",
            "    accuracy                           0.88     10509\n",
            "   macro avg       0.86      0.76      0.80     10509\n",
            "weighted avg       0.88      0.88      0.88     10509\n",
            "\n"
          ]
        }
      ],
      "source": [
        "#testing model on test data\n",
        "y_test_pred = model_cond.predict(X_test_vectorized)\n",
        "y_test_pred = np.argmax(y_test_pred, axis=1)\n",
        "test_f1 = f1_score(y_test_condensed, y_test_pred, average='weighted')\n",
        "test_accuracy = accuracy_score(y_test_condensed, y_test_pred)\n",
        "\n",
        "\n",
        "print(f\"Test Accuracy: {test_accuracy}\")\n",
        "print(f\"Test F1 Score: {test_f1}\")\n",
        "\n",
        "print(\"Test Classification Report:\\n\", classification_report(y_test_condensed, y_test_pred))"
      ]
    },
    {
      "cell_type": "markdown",
      "metadata": {
        "id": "cUdoYam5Y0In"
      },
      "source": [
        "The model's accuracy and F1 Score on the test data is ~88%."
      ]
    }
  ],
  "metadata": {
    "accelerator": "GPU",
    "colab": {
      "gpuType": "T4",
      "provenance": []
    },
    "kernelspec": {
      "display_name": "Python 3 (ipykernel)",
      "language": "python",
      "name": "python3"
    },
    "language_info": {
      "codemirror_mode": {
        "name": "ipython",
        "version": 3
      },
      "file_extension": ".py",
      "mimetype": "text/x-python",
      "name": "python",
      "nbconvert_exporter": "python",
      "pygments_lexer": "ipython3",
      "version": "3.7.16"
    }
  },
  "nbformat": 4,
  "nbformat_minor": 0
}